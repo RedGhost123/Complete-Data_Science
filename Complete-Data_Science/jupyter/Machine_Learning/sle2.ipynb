{
 "cells": [
  {
   "cell_type": "code",
   "execution_count": 1,
   "metadata": {},
   "outputs": [
    {
     "name": "stdout",
     "output_type": "stream",
     "text": [
      "   Weight  Height\n",
      "0      45     120\n",
      "1      58     135\n",
      "2      48     123\n",
      "3      60     145\n",
      "4      70     160\n",
      "X_train_scaled_df:\n",
      "      Height    Weight\n",
      "0  0.051648 -0.335969\n",
      "1 -1.859342 -1.664744\n",
      "2 -0.464835  0.026425\n",
      "3  0.206594  0.268020\n",
      "4  0.826374  0.872009\n",
      "X_test_scaled_df:\n",
      "      Height    Weight\n",
      "0 -1.549452 -1.845940\n",
      "1  0.000000 -0.637963\n",
      "2 -0.723077 -0.939957\n",
      "3  1.239561  1.475997\n",
      "4  0.413187  0.690812\n"
     ]
    }
   ],
   "source": [
    "import pandas as pd\n",
    "from sklearn.model_selection import train_test_split\n",
    "from sklearn.preprocessing import StandardScaler\n",
    "\n",
    "# Load the dataset\n",
    "file_path = r'E:\\DataScience\\Machine Learning\\height-weight.csv'\n",
    "df = pd.read_csv(file_path)\n",
    "\n",
    "# Inspect the first few rows of the dataframe\n",
    "print(df.head())\n",
    "\n",
    "# Define feature matrix X and target vector Y\n",
    "# Assuming 'Height' and 'Weight' are the features and there's no explicit target column\n",
    "X = df[['Height', 'Weight']]\n",
    "\n",
    "# Split the data into training and testing sets\n",
    "X_train, X_test = train_test_split(X, test_size=0.3, random_state=1)\n",
    "\n",
    "# Initialize the scaler\n",
    "scaler = StandardScaler()\n",
    "\n",
    "# Fit and transform the training data\n",
    "X_train_scaled = scaler.fit_transform(X_train)\n",
    "\n",
    "# Transform the test data\n",
    "X_test_scaled = scaler.transform(X_test)\n",
    "\n",
    "# Convert the scaled arrays back to DataFrames if necessary\n",
    "X_train_scaled_df = pd.DataFrame(X_train_scaled, columns=X_train.columns)\n",
    "X_test_scaled_df = pd.DataFrame(X_test_scaled, columns=X_test.columns)\n",
    "\n",
    "print(\"X_train_scaled_df:\\n\", X_train_scaled_df.head())\n",
    "print(\"X_test_scaled_df:\\n\", X_test_scaled_df.head())\n"
   ]
  },
  {
   "cell_type": "code",
   "execution_count": 2,
   "metadata": {},
   "outputs": [
    {
     "data": {
      "text/plain": [
       "array([[ 0.05164839, -0.33596868],\n",
       "       [-1.85934192, -1.6647437 ],\n",
       "       [-0.46483548,  0.0264245 ],\n",
       "       [ 0.20659355,  0.26801996],\n",
       "       [ 0.82637419,  0.8720086 ],\n",
       "       [-1.23956128, -1.06075505],\n",
       "       [ 0.56813225,  0.57001428],\n",
       "       [-2.01428708, -1.84594029],\n",
       "       [ 0.92967096,  0.14722223],\n",
       "       [ 0.05164839, -0.21517095],\n",
       "       [-0.98131935, -1.18155278],\n",
       "       [ 0.56813225,  0.14722223],\n",
       "       [ 1.18791289,  1.17400292],\n",
       "       [ 0.82637419,  1.77799157],\n",
       "       [ 1.18791289,  1.17400292],\n",
       "       [ 0.15494516,  0.14722223]])"
      ]
     },
     "execution_count": 2,
     "metadata": {},
     "output_type": "execute_result"
    }
   ],
   "source": [
    "X_train_scaled"
   ]
  },
  {
   "cell_type": "code",
   "execution_count": null,
   "metadata": {},
   "outputs": [],
   "source": []
  }
 ],
 "metadata": {
  "kernelspec": {
   "display_name": "Python 3",
   "language": "python",
   "name": "python3"
  },
  "language_info": {
   "codemirror_mode": {
    "name": "ipython",
    "version": 3
   },
   "file_extension": ".py",
   "mimetype": "text/x-python",
   "name": "python",
   "nbconvert_exporter": "python",
   "pygments_lexer": "ipython3",
   "version": "3.12.2"
  }
 },
 "nbformat": 4,
 "nbformat_minor": 2
}
